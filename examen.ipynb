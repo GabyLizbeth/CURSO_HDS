{
 "cells": [
  {
   "cell_type": "markdown",
   "metadata": {},
   "source": [
    "A.2.  \n"
   ]
  },
  {
   "cell_type": "code",
   "execution_count": 20,
   "metadata": {},
   "outputs": [
    {
     "name": "stdout",
     "output_type": "stream",
     "text": [
      "1980 es un año bisiesto.\n"
     ]
    }
   ],
   "source": [
    "def es_bisiesto(año):\n",
    "  if año % 4 != 0:\n",
    "    return False\n",
    "  elif año % 100 == 0 and año % 400 != 0:\n",
    "    return False\n",
    "  else:\n",
    "    return True\n",
    "\n",
    "año = int(input(\"Ingrese un año: \"))\n",
    "\n",
    "if es_bisiesto(año):\n",
    "  print(año, \"es un año bisiesto.\")\n",
    "else:\n",
    "  print(año,\"no es un año bisiesto.\")\n"
   ]
  },
  {
   "cell_type": "markdown",
   "metadata": {},
   "source": [
    "A.5."
   ]
  },
  {
   "cell_type": "code",
   "execution_count": 26,
   "metadata": {},
   "outputs": [
    {
     "name": "stdout",
     "output_type": "stream",
     "text": [
      "De la lista de numeros (1, 2, 3, 4) su: {'media': 2.5, 'varianza': 1.25, 'desviacion_tipica': 1.118033988749895}\n"
     ]
    }
   ],
   "source": [
    "def calcular_estadisticas(lista_numeros):\n",
    "  if not lista_numeros:\n",
    "      return None \n",
    "    \n",
    "  total = sum(lista_numeros)\n",
    "  media = total / len(lista_numeros)\n",
    "\n",
    "  diferencias_al_cuadrado = []\n",
    "  for numero in lista_numeros:\n",
    "    diferencia = numero - media\n",
    "    diferencia_al_cuadrado = diferencia ** 2\n",
    "    diferencias_al_cuadrado.append(diferencia_al_cuadrado)\n",
    "\n",
    "  varianza = sum(diferencias_al_cuadrado) / len(lista_numeros)\n",
    "  desviacion_tipica = varianza ** 0.5\n",
    "\n",
    "  estadisticas = {\n",
    "    'media': media,\n",
    "    'varianza': varianza,\n",
    "    'desviacion_tipica': desviacion_tipica\n",
    "  }\n",
    "\n",
    "  return estadisticas\n",
    "\n",
    "lista_de_numeros = (1, 2, 3, 4)\n",
    "estadisticas = calcular_estadisticas(lista_de_numeros)\n",
    "print(\"De la lista de numeros\", lista_de_numeros , \"su:\", estadisticas)\n",
    "\n"
   ]
  },
  {
   "cell_type": "markdown",
   "metadata": {},
   "source": [
    "A.6. "
   ]
  },
  {
   "cell_type": "code",
   "execution_count": null,
   "metadata": {},
   "outputs": [],
   "source": [
    "def calcular_total_con_igv(cantidad_sin_igv, porcentaje_igv=18):\n",
    "    \n",
    "    igv = cantidad_sin_igv * (porcentaje_igv / 100)\n",
    "    total = cantidad_sin_igv + igv\n",
    "    return total\n",
    "\n",
    "total_factura = calcular_total_con_igv(100)\n",
    "print(\"Total de la factura con IGV es:\", total_factura)\n",
    "\n",
    "\n",
    "Total_Factura = calcular_total_con_igv(100, 18)\n",
    "print(\"Total de la factura con IGV es:\", Total_Factura)\n"
   ]
  },
  {
   "cell_type": "code",
   "execution_count": null,
   "metadata": {},
   "outputs": [],
   "source": []
  },
  {
   "cell_type": "markdown",
   "metadata": {},
   "source": [
    "B.1. Escriba un programa que permita crear dos listas de palabras y que, a continuación, elimine de la primera lista los nombres de la segunda lista."
   ]
  },
  {
   "cell_type": "code",
   "execution_count": 36,
   "metadata": {},
   "outputs": [
    {
     "name": "stdout",
     "output_type": "stream",
     "text": [
      "Primera lista de palabras: ['hola', 'mundo', 'mundo', 'perro', 'gato', 'perro']\n",
      "Segunda lista de palabras a eliminar: ['mundo', 'perro', 'gato']\n",
      "Lista resultante después de eliminar palabras: ['hola']\n"
     ]
    }
   ],
   "source": [
    "def eliminar_palabras_repetidas(lista1, lista2):\n",
    "    \n",
    "    set_lista1 = set(lista1)\n",
    "    set_lista2 = set(lista2)\n",
    "    \n",
    "    set_resultado = set_lista1 - set_lista2\n",
    "    \n",
    "    lista_resultado = list(set_resultado)\n",
    "    \n",
    "    return lista_resultado\n",
    "\n",
    "if __name__ == \"__main__\":\n",
    "    \n",
    "    lista1 = [\"hola\", \"mundo\", \"mundo\", \"perro\", \"gato\", \"perro\"]\n",
    "    lista2 = [\"mundo\", \"perro\", \"gato\"]\n",
    "       \n",
    "    lista_resultante = eliminar_palabras_repetidas(lista1, lista2)\n",
    "    \n",
    "print(\"Primera lista de palabras:\", lista1)\n",
    "print(\"Segunda lista de palabras a eliminar:\", lista2)\n",
    "print(\"Lista resultante después de eliminar palabras:\", lista_resultante)"
   ]
  },
  {
   "cell_type": "markdown",
   "metadata": {},
   "source": [
    "B.2 Escriba un programa que permita crear una lista de palabras y que, a continuación,\n",
    "pida una palabra y diga cuántas veces aparece esa palabra en la lista."
   ]
  },
  {
   "cell_type": "code",
   "execution_count": 37,
   "metadata": {},
   "outputs": [
    {
     "name": "stdout",
     "output_type": "stream",
     "text": [
      "La palabra 'computacion' aparece 1 veces en la lista.\n"
     ]
    }
   ],
   "source": [
    "def contar_palabra_en_lista(lista, palabra):\n",
    "    count = lista.count(palabra)\n",
    "    return count\n",
    "\n",
    "if __name__ == \"__main__\":\n",
    "   \n",
    "    lista_palabras = []\n",
    "    while True:\n",
    "        palabra = input(\"Ingrese una palabra (o 'fin' para terminar): \")\n",
    "        if palabra.lower() == 'fin':\n",
    "            break\n",
    "        lista_palabras.append(palabra)\n",
    "    \n",
    "    palabra_buscar = input(\"Ingrese la palabra a buscar: \")\n",
    "    resultado = contar_palabra_en_lista(lista_palabras, palabra_buscar)\n",
    "    \n",
    "    print(f\"La palabra '{palabra_buscar}' aparece {resultado} veces en la lista.\")\n"
   ]
  },
  {
   "cell_type": "markdown",
   "metadata": {},
   "source": [
    "C.1"
   ]
  },
  {
   "cell_type": "code",
   "execution_count": 16,
   "metadata": {},
   "outputs": [
    {
     "name": "stdout",
     "output_type": "stream",
     "text": [
      "Lista de la compra\n",
      "archivador  \t 35.0\n",
      "cuderno \t 35.0\n",
      "Coste total:  70.0\n"
     ]
    }
   ],
   "source": [
    "Carrito_compra = {}\n",
    "diccionario = 'si'\n",
    "while diccionario == 'si':\n",
    "    item = input('Introduce un artículo: ')\n",
    "    Precio = float(input('Introduce el precio de ' + item + ': '))\n",
    "    Carrito_compra[item] = Precio\n",
    "    diccionario = input('¿Quieres añadir artículos a la lista (si/no)? ')\n",
    "costo_total = 0\n",
    "print('Lista de la compra')\n",
    "for item, price in Carrito_compra.items():\n",
    "    print(item, '\\t', Precio)\n",
    "    costo_total += Precio\n",
    "print('Coste total: ', costo_total)"
   ]
  },
  {
   "cell_type": "markdown",
   "metadata": {},
   "source": [
    "c.2"
   ]
  },
  {
   "cell_type": "code",
   "execution_count": 10,
   "metadata": {},
   "outputs": [
    {
     "name": "stdout",
     "output_type": "stream",
     "text": [
      "Recaudado: 0\n",
      "Pendiente de cobro: 0\n",
      "Recaudado: 0\n",
      "Pendiente de cobro: 0\n",
      "Recaudado: 118.0\n",
      "Pendiente de cobro: 118.0\n"
     ]
    }
   ],
   "source": [
    "facturas = {}\n",
    "cobrado = 0\n",
    "pendiente = 0\n",
    "sumando = ''\n",
    "while sumando != 'T':\n",
    "    if sumando == 'A':\n",
    "        clave = input('Introduce el numero de la factura: ')\n",
    "        valor_1 = float(input('Introduce el monto de la factura: '))\n",
    "        facturas[clave] = valor_1 * 1.18\n",
    "        pendiente +- valor_1\n",
    "    if sumando == 'P':\n",
    "        clave = input('Introduce el numero de la factura a pagar: ')\n",
    "        valor_1 = facturas.pop(clave, 0)\n",
    "        cobrado += valor_1\n",
    "        pendiente = valor_1\n",
    "    print('Recaudado:', cobrado)\n",
    "    print('Pendiente de cobro:', pendiente)\n",
    "    sumando = input('¿Quieres añadir una nueva factura (A), pagarla (P), o terminada (T)?')"
   ]
  }
 ],
 "metadata": {
  "kernelspec": {
   "display_name": "Python 3",
   "language": "python",
   "name": "python3"
  },
  "language_info": {
   "codemirror_mode": {
    "name": "ipython",
    "version": 3
   },
   "file_extension": ".py",
   "mimetype": "text/x-python",
   "name": "python",
   "nbconvert_exporter": "python",
   "pygments_lexer": "ipython3",
   "version": "3.12.3"
  }
 },
 "nbformat": 4,
 "nbformat_minor": 2
}
