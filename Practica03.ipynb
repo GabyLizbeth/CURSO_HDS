{
 "cells": [
  {
   "cell_type": "markdown",
   "metadata": {},
   "source": [
    "# Ejercicio 01"
   ]
  },
  {
   "cell_type": "code",
   "execution_count": 16,
   "metadata": {},
   "outputs": [
    {
     "name": "stdout",
     "output_type": "stream",
     "text": [
      "contraseña incorrecta\n"
     ]
    }
   ],
   "source": [
    "CONTRASEÑA = \"GAbrieLA\"\n",
    "contraseña = input(\"ingrese su contraseña\")\n",
    "if CONTRASEÑA == contraseña:\n",
    "    print(\"contraseña correcta\")\n",
    "else:\n",
    "    print(\"contraseña incorrecta\")"
   ]
  },
  {
   "cell_type": "markdown",
   "metadata": {},
   "source": [
    "# Ejercicio 02"
   ]
  },
  {
   "cell_type": "code",
   "execution_count": 17,
   "metadata": {},
   "outputs": [
    {
     "name": "stdout",
     "output_type": "stream",
     "text": [
      "(numero:1) dividido por (numero_2) es igual a (division) \n",
      "Error los datos son incorrectos\n"
     ]
    }
   ],
   "source": [
    "numero_1 = float(input(\"Ingrese el primer numero: \"))\n",
    "numero_2 = float(input(\"Ingrese el segundo numero: \"))\n",
    "if numero_2 == 2:\n",
    "    print(\"error\")\n",
    "else:\n",
    "    division = numero_1/numero_2\n",
    "    print(\"(numero:1) dividido por (numero_2) es igual a (division) \")\n",
    "print (\"Error los datos son incorrectos\")"
   ]
  },
  {
   "cell_type": "markdown",
   "metadata": {},
   "source": [
    "# Ejercico 03"
   ]
  },
  {
   "cell_type": "code",
   "execution_count": 1,
   "metadata": {},
   "outputs": [
    {
     "name": "stdout",
     "output_type": "stream",
     "text": [
      "Usted esta obligado a pagar impuestos\n"
     ]
    }
   ],
   "source": [
    "edad = int(input(\"Ingrese su edad: \"))\n",
    "IM = float(input(\"ingrese su ingreso mensuales: \"))\n",
    "if edad >= 18 and IM >= 2000:\n",
    "    print(\"Usted esta obligado a pagar impuestos\")\n",
    "else:\n",
    "    print(\"Usted NO esta obligado a pagar impuestos\")"
   ]
  },
  {
   "cell_type": "markdown",
   "metadata": {},
   "source": [
    "# Ejercicio 04"
   ]
  },
  {
   "cell_type": "code",
   "execution_count": 21,
   "metadata": {},
   "outputs": [
    {
     "name": "stdout",
     "output_type": "stream",
     "text": [
      "Al grupo que perteneces es B\n"
     ]
    }
   ],
   "source": [
    "Nombre = input(\"¿Cual es tu nombre\")\n",
    "Genero = input(\"¿Cual es tu genero (M o F)?\")\n",
    "if Genero == \"M\":\n",
    "    if Nombre.lower() <\"m\":\n",
    "        grupo = \"A\"\n",
    "    else:\n",
    "        grupo = \"B\"\n",
    "else:\n",
    "    if Nombre.lower() >\"n\":\n",
    "        grupo = \"A\"\n",
    "    else:\n",
    "        grupo = \"B\"\n",
    "print(\"Al grupo que perteneces es \" + grupo)"
   ]
  },
  {
   "cell_type": "markdown",
   "metadata": {},
   "source": [
    "# Ejercicio 05"
   ]
  },
  {
   "cell_type": "code",
   "execution_count": 3,
   "metadata": {},
   "outputs": [
    {
     "name": "stdout",
     "output_type": "stream",
     "text": [
      "El precio de la entrada para el cliente de 25 años es: 20 soles.\n"
     ]
    }
   ],
   "source": [
    "edad = int(input(\"Por favor, ingresa la edad del cliente: \"))\n",
    "\n",
    "\n",
    "if edad < 4:\n",
    "    precio_entrada = 0  # Menores de 4 años entran gratis\n",
    "elif 4 <= edad <= 18:\n",
    "    precio_entrada = 10  # Clientes de 4 a 18 años pagan 10 soles\n",
    "else:\n",
    "    precio_entrada = 20  # Clientes mayores de 18 años \n",
    "print(f\"El precio de la entrada para el cliente de {edad} años es: {precio_entrada} soles.\")"
   ]
  },
  {
   "cell_type": "markdown",
   "metadata": {},
   "source": [
    "# Ejercicio 06"
   ]
  },
  {
   "cell_type": "code",
   "execution_count": 8,
   "metadata": {},
   "outputs": [
    {
     "name": "stdout",
     "output_type": "stream",
     "text": [
      "Has cumplido 1 años\n",
      "Has cumplido 2 años\n",
      "Has cumplido 3 años\n",
      "Has cumplido 4 años\n",
      "Has cumplido 5 años\n",
      "Has cumplido 6 años\n",
      "Has cumplido 7 años\n",
      "Has cumplido 8 años\n",
      "Has cumplido 9 años\n",
      "Has cumplido 10 años\n",
      "Has cumplido 11 años\n",
      "Has cumplido 12 años\n"
     ]
    }
   ],
   "source": [
    "Edades = int (input(\"¿Que edad tienes? \"))\n",
    "for i in range (Edades):\n",
    "    print(\"Has cumplido \" + str(i+1) + \" años\")\n",
    "    "
   ]
  },
  {
   "cell_type": "markdown",
   "metadata": {},
   "source": [
    "# Ejercicio 07"
   ]
  },
  {
   "cell_type": "code",
   "execution_count": 9,
   "metadata": {},
   "outputs": [
    {
     "name": "stdout",
     "output_type": "stream",
     "text": [
      "&\n",
      "&&\n",
      "&&&\n",
      "&&&&\n"
     ]
    }
   ],
   "source": [
    "N = int(input(\"Escribe la altura del triangulo: \"))\n",
    "for i in range (N):\n",
    "    for j in range(i+1):\n",
    "        print(\"&\", end = \"\")\n",
    "    print(\"\")"
   ]
  },
  {
   "cell_type": "markdown",
   "metadata": {},
   "source": [
    "# Ejercicio 08"
   ]
  },
  {
   "cell_type": "code",
   "execution_count": 13,
   "metadata": {},
   "outputs": [
    {
     "name": "stdout",
     "output_type": "stream",
     "text": [
      "n\n",
      "o\n",
      "i\n",
      "c\n",
      "a\n",
      "t\n",
      "u\n",
      "p\n",
      "m\n",
      "o\n",
      "c\n"
     ]
    }
   ],
   "source": [
    "palabra = input(\"Escribe una palabra\")\n",
    "for i in range(len(palabra)-1, -1, -1):\n",
    "    print(palabra[i])\n",
    "    \n"
   ]
  },
  {
   "cell_type": "markdown",
   "metadata": {},
   "source": [
    "# Ejercicio 09"
   ]
  },
  {
   "cell_type": "code",
   "execution_count": 14,
   "metadata": {},
   "outputs": [
    {
     "name": "stdout",
     "output_type": "stream",
     "text": [
      "LA LETRA p APARECE 2 VECES EN LA FRASE El rio suena porque piedras trae\n"
     ]
    }
   ],
   "source": [
    "frase = input(\"Escribe una frase: \")\n",
    "letra = input(\"Escribe una letra\")\n",
    "contador = 0\n",
    "for i in frase:\n",
    "    if i == letra:\n",
    "        contador += 1\n",
    "print(\"LA LETRA\", letra , \"APARECE\", contador, \"VECES EN LA FRASE\", frase)\n"
   ]
  },
  {
   "cell_type": "markdown",
   "metadata": {},
   "source": [
    "# Ejercicio 10"
   ]
  },
  {
   "cell_type": "code",
   "execution_count": 15,
   "metadata": {},
   "outputs": [
    {
     "name": "stdout",
     "output_type": "stream",
     "text": [
      "1 \n",
      "3 1 \n",
      "5 3 1 \n",
      "7 5 3 1 \n"
     ]
    }
   ],
   "source": [
    "n = int(input(\"Escribe la altura del triangulo (entero positivo): \"))\n",
    "for i in range(1, n+1, 2):\n",
    "    for j in range(i, 0, -2):\n",
    "        print(j, end=\" \")\n",
    "    print(\"\")"
   ]
  }
 ],
 "metadata": {
  "kernelspec": {
   "display_name": "Python 3",
   "language": "python",
   "name": "python3"
  },
  "language_info": {
   "codemirror_mode": {
    "name": "ipython",
    "version": 3
   },
   "file_extension": ".py",
   "mimetype": "text/x-python",
   "name": "python",
   "nbconvert_exporter": "python",
   "pygments_lexer": "ipython3",
   "version": "3.12.3"
  }
 },
 "nbformat": 4,
 "nbformat_minor": 2
}
