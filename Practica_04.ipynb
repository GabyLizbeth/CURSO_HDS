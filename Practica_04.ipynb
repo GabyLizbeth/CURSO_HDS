{
 "cells": [
  {
   "cell_type": "markdown",
   "metadata": {},
   "source": [
    "0.1. Crear una funcion para las aperaciones basicas +-*/^"
   ]
  },
  {
   "cell_type": "code",
   "execution_count": 91,
   "metadata": {},
   "outputs": [
    {
     "name": "stdout",
     "output_type": "stream",
     "text": [
      "16\n",
      "6\n",
      "2\n",
      "8\n",
      "2.0\n"
     ]
    }
   ],
   "source": [
    "def operandos(num1, num2):\n",
    "    potencia = num1**num2\n",
    "    suma = num1 + num2\n",
    "    resta = num1 - num2\n",
    "    multiplicacion = num1*num2\n",
    "    division = num1/num2\n",
    "    \n",
    "    return potencia, suma, resta, multiplicacion, division\n",
    "\n",
    "potencia, suma, resta, multiplicacion, division = operandos(4, 2)\n",
    "\n",
    "print(potencia)\n",
    "print(suma)\n",
    "print(resta)\n",
    "print(multiplicacion)\n",
    "print(division)"
   ]
  },
  {
   "cell_type": "markdown",
   "metadata": {},
   "source": [
    "1. Escribir una funcion que calcule el total de una factura tras aplicarle el IGV. La funcion debe recibir la cantidad sin IGV y el porcentaje de IGV a aplicar, y devolver el total de la factura. Si se invoca la funcion sin pasarla el porjentaje de IGV, debera aplicar un 18%."
   ]
  },
  {
   "cell_type": "code",
   "execution_count": 24,
   "metadata": {},
   "outputs": [
    {
     "name": "stdout",
     "output_type": "stream",
     "text": [
      "Total de la factura con IGV es: 118.0\n",
      "Total de la factura con IGV es: 118.0\n"
     ]
    }
   ],
   "source": [
    "def calcular_total_con_igv(cantidad_sin_igv, porcentaje_igv=18):\n",
    "    \n",
    "    igv = cantidad_sin_igv * (porcentaje_igv / 100)\n",
    "    total = cantidad_sin_igv + igv\n",
    "    return total\n",
    "\n",
    "total_factura = calcular_total_con_igv(100)\n",
    "print(\"Total de la factura con IGV es:\", total_factura)\n",
    "\n",
    "\n",
    "Total_Factura = calcular_total_con_igv(100, 18)\n",
    "print(\"Total de la factura con IGV es:\", Total_Factura)"
   ]
  },
  {
   "cell_type": "markdown",
   "metadata": {},
   "source": [
    "2. Escribir una funcion que calcule el area de un circulo  y otra que calculeel volumen de un cilindro usando la primera funcion."
   ]
  },
  {
   "cell_type": "code",
   "execution_count": 26,
   "metadata": {},
   "outputs": [
    {
     "name": "stdout",
     "output_type": "stream",
     "text": [
      "El area de circulo es: 12.5664\n",
      "El volumen del cilindro es: 50.2656\n"
     ]
    }
   ],
   "source": [
    "def calcular_area_circulo(radio):\n",
    "    return 3.1416 * radio**2\n",
    "\n",
    "def calcular_volumen_cilindro(radio, altura):\n",
    "    area_base = calcular_area_circulo(radio)\n",
    "    return area_base * altura\n",
    "\n",
    "radio = 2\n",
    "altura = 4\n",
    "\n",
    "area = calcular_area_circulo(radio)\n",
    "print(\"El area de circulo es:\",area)\n",
    "\n",
    "volumen = calcular_volumen_cilindro(radio, altura)\n",
    "print(\"El volumen del cilindro es:\", volumen)"
   ]
  },
  {
   "cell_type": "markdown",
   "metadata": {},
   "source": [
    "3. Escribir una funcion que reciba una muestra de numeros en una lista y devuelva su media."
   ]
  },
  {
   "cell_type": "code",
   "execution_count": 6,
   "metadata": {},
   "outputs": [
    {
     "name": "stdout",
     "output_type": "stream",
     "text": [
      "La media de la lista (1, 2, 3, 4, 5) es: 3.0\n"
     ]
    }
   ],
   "source": [
    "def calcular_media(lista):\n",
    "    if not lista:\n",
    "        return 0  \n",
    "\n",
    "    suma = sum(lista)\n",
    "    media = suma / len(lista)\n",
    "    return media\n",
    "\n",
    "numeros = (1, 2, 3, 4, 5)\n",
    "resultado = calcular_media(numeros)\n",
    "print(\"La media de la lista\", numeros ,\"es:\", resultado)"
   ]
  },
  {
   "cell_type": "markdown",
   "metadata": {},
   "source": [
    "4. Escribir una funcion que reciba una muestra de numeros en una lista y devuelva otra lista con sus cuadrados."
   ]
  },
  {
   "cell_type": "code",
   "execution_count": 12,
   "metadata": {},
   "outputs": [
    {
     "name": "stdout",
     "output_type": "stream",
     "text": [
      "Los cuadrados de los numeros de la lista (1, 2, 3, 4, 5) son: [1, 4, 9, 16, 25]\n"
     ]
    }
   ],
   "source": [
    "def calcular_cuadrados(lista):\n",
    "    cuadrados = (num ** 2 for num in lista)\n",
    "    return cuadrados\n",
    "\n",
    "lista = (1, 2, 3, 4, 5)\n",
    "lista_cuadrados = calcular_cuadrados(lista)\n",
    "print(\"Los cuadrados de los numeros de la lista\", lista, \"son:\", lista_cuadrados)\n"
   ]
  },
  {
   "cell_type": "markdown",
   "metadata": {},
   "source": [
    "5. Escribir una funcion que reciba una muestra de numeros en una lista y devuelva un diccionariocon su media, varianza y desviacion tipica."
   ]
  },
  {
   "cell_type": "code",
   "execution_count": 36,
   "metadata": {},
   "outputs": [
    {
     "name": "stdout",
     "output_type": "stream",
     "text": [
      "De la lista de numeros (1, 2, 3, 4) su: {'media': 2.5, 'varianza': 1.25, 'desviacion_tipica': 1.118033988749895}\n"
     ]
    }
   ],
   "source": [
    "def calcular_estadisticas(lista_numeros):\n",
    "  if not lista_numeros:\n",
    "      return None \n",
    "    \n",
    "  total = sum(lista_numeros)\n",
    "  media = total / len(lista_numeros)\n",
    "\n",
    "  diferencias_al_cuadrado = []\n",
    "  for numero in lista_numeros:\n",
    "    diferencia = numero - media\n",
    "    diferencia_al_cuadrado = diferencia ** 2\n",
    "    diferencias_al_cuadrado.append(diferencia_al_cuadrado)\n",
    "\n",
    "  varianza = sum(diferencias_al_cuadrado) / len(lista_numeros)\n",
    "  desviacion_tipica = varianza ** 0.5\n",
    "\n",
    "  estadisticas = {\n",
    "    'media': media,\n",
    "    'varianza': varianza,\n",
    "    'desviacion_tipica': desviacion_tipica\n",
    "  }\n",
    "\n",
    "  return estadisticas\n",
    "\n",
    "lista_de_numeros = (1, 2, 3, 4)\n",
    "estadisticas = calcular_estadisticas(lista_de_numeros)\n",
    "print(\"De la lista de numeros\", lista_de_numeros , \"su:\", estadisticas)\n",
    "\n"
   ]
  },
  {
   "cell_type": "markdown",
   "metadata": {},
   "source": [
    "6. Escribir una funcion que conviertaun numero decimal en binario y otra que convierta un binario en decimal."
   ]
  },
  {
   "cell_type": "code",
   "execution_count": 45,
   "metadata": {},
   "outputs": [
    {
     "name": "stdout",
     "output_type": "stream",
     "text": [
      "El decimal de numero 8 en binario es: 1000\n",
      "El Binario 1000 en decimal es el numero: 8\n"
     ]
    }
   ],
   "source": [
    "def decimal_a_binario(decimal):\n",
    "    if decimal == 0:\n",
    "        return '0'\n",
    "    \n",
    "    binario = ''\n",
    "    while decimal > 0:\n",
    "        binario = str(decimal % 2) + binario\n",
    "        decimal = decimal // 2\n",
    "    return binario\n",
    "\n",
    "def binario_a_decimal(binario):\n",
    "    decimal = 0\n",
    "    for i in range(len(binario)):\n",
    "        if binario[i] == '1':\n",
    "            decimal += 2 ** (len(binario) - 1 - i)\n",
    "    return decimal\n",
    "\n",
    "decimal = 8\n",
    "binario = decimal_a_binario(decimal)\n",
    "resultado = binario\n",
    "print(\"El decimal de numero\",decimal , \"en binario es:\", binario)\n",
    "\n",
    "binario = resultado\n",
    "decimal = binario_a_decimal(binario)\n",
    "print(\"El Binario\", binario , \"en decimal es el numero:\",decimal)"
   ]
  },
  {
   "cell_type": "markdown",
   "metadata": {},
   "source": [
    "7. Escribir un prorama que recibe una cadena de caracteres y devuelva un diccionario con cada palabra que contiene y su frecuencia. escribir otra funcion que reciba el diccionario generado con la funcion anterior y devuleva una tupla con la palabra mas repetida y su frecuencia."
   ]
  },
  {
   "cell_type": "code",
   "execution_count": 83,
   "metadata": {},
   "outputs": [
    {
     "name": "stdout",
     "output_type": "stream",
     "text": [
      "{'Programa': 1, 'de': 2, 'estudios': 1, 'computacion': 1, 'e': 1, 'informatica': 1}\n",
      "La palabra más repetida es: de\n",
      "Su frecuencia es: 2\n"
     ]
    }
   ],
   "source": [
    "def contar_palabras(cadena):\n",
    "\n",
    "  palabras = cadena.split()\n",
    "  diccionario = {}\n",
    "  for palabra in palabras:\n",
    "    diccionario[palabra] = diccionario.get(palabra, 0) + 1\n",
    "  return diccionario\n",
    "\n",
    "def palabra_mas_repetida(diccionario):\n",
    "\n",
    "  palabra_mas_repetida = max(diccionario, key=diccionario.get)\n",
    "  frecuencia_maxima = diccionario[palabra_mas_repetida]\n",
    "  return (palabra_mas_repetida, frecuencia_maxima)\n",
    "\n",
    "\n",
    "cadena = \"Programa de estudios de computacion e informatica\"\n",
    "diccionario = contar_palabras(cadena)\n",
    "print(diccionario)\n",
    "palabra_mas_repetida, frecuencia = palabra_mas_repetida(diccionario)\n",
    "print(\"La palabra más repetida es:\", palabra_mas_repetida)\n",
    "print(\"Su frecuencia es:\", frecuencia)\n"
   ]
  },
  {
   "cell_type": "markdown",
   "metadata": {},
   "source": [
    "8. Escribir una funcion que calcule el maximo comun divisor de dos numeros y otra que calcule el minimo comun multiplo."
   ]
  },
  {
   "cell_type": "code",
   "execution_count": 88,
   "metadata": {},
   "outputs": [
    {
     "name": "stdout",
     "output_type": "stream",
     "text": [
      "El máximo común divisor de 24 y 36 es: 12\n",
      "Mínimo común múltiplo de 24 y 36 es: 72\n"
     ]
    }
   ],
   "source": [
    "def mcd(a, b):\n",
    "    while b != 0:\n",
    "        a, b = b, a % b\n",
    "    return a\n",
    "def mcm(a, b):\n",
    "    return abs(a * b) // mcd(a, b)\n",
    "# Ejemplo de uso:\n",
    "num1 = 24\n",
    "num2 = 36\n",
    "\n",
    "max_comun_divisor = mcd(num1, num2)\n",
    "min_comun_multiplo = mcm(num1, num2)\n",
    "\n",
    "print(\"El máximo común divisor de\", num1 ,  \"y\", num2 ,\"es:\", max_comun_divisor)\n",
    "print(\"Mínimo común múltiplo de\" , num1, \"y\", num2 , \"es:\", min_comun_multiplo)\n"
   ]
  }
 ],
 "metadata": {
  "kernelspec": {
   "display_name": "Python 3",
   "language": "python",
   "name": "python3"
  },
  "language_info": {
   "codemirror_mode": {
    "name": "ipython",
    "version": 3
   },
   "file_extension": ".py",
   "mimetype": "text/x-python",
   "name": "python",
   "nbconvert_exporter": "python",
   "pygments_lexer": "ipython3",
   "version": "3.12.3"
  }
 },
 "nbformat": 4,
 "nbformat_minor": 2
}
